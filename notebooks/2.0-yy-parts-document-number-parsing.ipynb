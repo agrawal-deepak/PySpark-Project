{
 "cells": [
  {
   "cell_type": "code",
   "execution_count": 1,
   "metadata": {},
   "outputs": [],
   "source": [
    "import numpy as np\n",
    "import pandas as pd"
   ]
  },
  {
   "cell_type": "markdown",
   "metadata": {},
   "source": [
    "## Load Dataset"
   ]
  },
  {
   "cell_type": "code",
   "execution_count": 2,
   "metadata": {},
   "outputs": [],
   "source": [
    "invoice = pd.read_csv('..\\\\data\\\\raw\\\\invoice_wo_data_2019_20200128.csv')\n",
    "calls = pd.read_pickle('..\\\\data\\\\interim\\\\call_history_ai_2019.pkl')"
   ]
  },
  {
   "cell_type": "markdown",
   "metadata": {},
   "source": [
    "## Parse Document Numbers"
   ]
  },
  {
   "cell_type": "code",
   "execution_count": 7,
   "metadata": {},
   "outputs": [],
   "source": [
    "# helper function\n",
    "def find_unique(s):\n",
    "    uniques = s.dropna().unique()\n",
    "    if len(uniques) > 1:\n",
    "        return ', '.join([item for item in uniques])\n",
    "    else:\n",
    "        return uniques\n",
    "\n",
    "# preprocess invoice data\n",
    "invoice['RootPDN'] = invoice.loc[:, 'PDN'].str.slice(stop=9)\n",
    "invoice = (pd.pivot_table(invoice, values='TotalPartSales',\n",
    "                          index='RootPDN', aggfunc=np.sum)\n",
    "           .reset_index())    \n",
    "\n",
    "# preprocess all columns containing parts document number in call history\n",
    "PDN_COLS = ['PartsDocumentNumber', 'Notes']\n",
    "for col in PDN_COLS:\n",
    "    calls.loc[:, col] = calls.loc[:, col].str.upper()\n",
    "\n",
    "# extract full & partial PartsDocumentNumber (PDN)\n",
    "pdn_pat = '\\d{2}[a-zA-Z]\\d{6}'\n",
    "pdn_mask = (calls.loc[:, 'PartsDocumentNumber']\n",
    "            .str.match(r'{}'.format(pdn_pat))\n",
    "            .fillna(False))\n",
    "\n",
    "pdn_df = (calls.loc[pdn_mask, 'PartsDocumentNumber']\n",
    "          .str.extractall(r'(?P<RootPDN>{}|\\b\\d+)'.format(pdn_pat)))\n",
    "\n",
    "for idx in pdn_df.loc[pdn_df.RootPDN.apply(lambda x: len(x) < 9), :].index.values:\n",
    "    partial_pdn = pdn_df.loc[idx, 'RootPDN']\n",
    "    missing_length = 9 - len(partial_pdn)\n",
    "    fixed_pdn = ('{}{}').format(pdn_df.loc[(idx[0], 0), 'RootPDN'][:missing_length], partial_pdn)\n",
    "    pdn_df.loc[idx, 'RootPDN'] = fixed_pdn\n",
    "\n",
    "notes_df = (calls.loc[:, 'Notes']\n",
    "            .str.extractall(r'(?P<PDNinNotes>{})'.format(pdn_pat)))\n",
    "\n",
    "full_pdn_df = pdn_df.join(notes_df, how='outer').reset_index()\n",
    "full_pdn_df = (pd.melt(full_pdn_df, id_vars=['MeetingID', 'match'], value_name='RootPDN')\n",
    "               .drop(columns=['match', 'variable'])\n",
    "               .drop_duplicates()\n",
    "               .dropna())\n",
    "\n",
    "full_pdn_w_revenue = (full_pdn_df.merge(invoice.loc[:, ['RootPDN', 'TotalPartSales']], how='left')\n",
    "                      .groupby('MeetingID')\n",
    "                      .agg({'RootPDN': find_unique, 'TotalPartSales': 'sum'}))\n",
    "\n",
    "calls = calls.join(full_pdn_w_revenue, on='MeetingID', how='left').reset_index()\n",
    "calls['SalesType'] = calls.loc[:, 'RootPDN'].str.extract(r'([CS])')\n",
    "calls['Branch'] = calls.loc[:, 'Branch'].str.strip()"
   ]
  },
  {
   "cell_type": "markdown",
   "metadata": {},
   "source": [
    "## Export Interim & Processed Dataset"
   ]
  },
  {
   "cell_type": "code",
   "execution_count": 8,
   "metadata": {},
   "outputs": [],
   "source": [
    "calls.to_pickle('..\\\\data\\\\interim\\\\call_history_2019_w_revenue.pkl')\n",
    "calls.to_csv('..\\\\data\\\\processed\\\\call_history_2019_w_revenue.csv', index=False)"
   ]
  }
 ],
 "metadata": {
  "kernelspec": {
   "display_name": "Python 3",
   "language": "python",
   "name": "python3"
  },
  "language_info": {
   "codemirror_mode": {
    "name": "ipython",
    "version": 3
   },
   "file_extension": ".py",
   "mimetype": "text/x-python",
   "name": "python",
   "nbconvert_exporter": "python",
   "pygments_lexer": "ipython3",
   "version": "3.7.3"
  }
 },
 "nbformat": 4,
 "nbformat_minor": 2
}
